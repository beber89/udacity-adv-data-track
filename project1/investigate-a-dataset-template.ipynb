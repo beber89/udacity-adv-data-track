{
 "cells": [
  {
   "cell_type": "markdown",
   "metadata": {},
   "source": [
    "\n",
    "\n",
    "# Project: Football (i.e. US Soccer) Database\n",
    "\n",
    "## Table of Contents\n",
    "<ul>\n",
    "<li><a href=\"#intro\">Introduction</a></li>\n",
    "<li><a href=\"#wrangling\">Data Wrangling</a></li>\n",
    "<li><a href=\"#eda\">Exploratory Data Analysis</a></li>\n",
    "<li><a href=\"#conclusions\">Conclusions</a></li>\n",
    "</ul>"
   ]
  },
  {
   "cell_type": "markdown",
   "metadata": {},
   "source": [
    "<a id='intro'></a>\n",
    "## Introduction\n",
    "\n",
    "> **Tip**: In this section of the report, provide a brief introduction to the dataset you've selected for analysis. At the end of this section, describe the questions that you plan on exploring over the course of the report. Try to build your report around the analysis of at least one dependent variable and three independent variables.\n",
    ">\n",
    "> If you haven't yet selected and downloaded your data, make sure you do that first before coming back here. If you're not sure what questions to ask right now, then make sure you familiarize yourself with the variables and the dataset context for ideas of what to explore."
   ]
  },
  {
   "cell_type": "code",
   "execution_count": 1,
   "metadata": {},
   "outputs": [],
   "source": [
    "# Use this cell to set up import statements for all of the packages that you\n",
    "#   plan to use.\n",
    "\n",
    "# Remember to include a 'magic word' so that your visualizations are plotted\n",
    "#   inline with the notebook. See this page for more:\n",
    "#   http://ipython.readthedocs.io/en/stable/interactive/magics.html\n",
    "import pandas as pd\n",
    "import matplotlib.pyplot as plt\n",
    "import sqlite3\n",
    "import numpy as np\n",
    "%matplotlib inline\n"
   ]
  },
  {
   "cell_type": "markdown",
   "metadata": {},
   "source": [
    "<a id='wrangling'></a>\n",
    "## Data Wrangling\n",
    "\n",
    "\n",
    "\n",
    "### General Properties"
   ]
  },
  {
   "cell_type": "markdown",
   "metadata": {},
   "source": [
    "#### Loading data from sqlite\n",
    "First check the table names in the database"
   ]
  },
  {
   "cell_type": "code",
   "execution_count": 2,
   "metadata": {},
   "outputs": [
    {
     "data": {
      "text/plain": [
       "[('sqlite_sequence',),\n",
       " ('Player_Attributes',),\n",
       " ('Player',),\n",
       " ('Match',),\n",
       " ('League',),\n",
       " ('Country',),\n",
       " ('Team',),\n",
       " ('Team_Attributes',)]"
      ]
     },
     "execution_count": 2,
     "metadata": {},
     "output_type": "execute_result"
    }
   ],
   "source": [
    "# Load your data and print out a few lines. Perform operations to inspect data\n",
    "#   types and look for instances of missing or possibly errant data.\n",
    "con = sqlite3.connect(\"./database.sqlite\")\n",
    "cursor = con.cursor()\n",
    "cursor.execute(\"SELECT name FROM sqlite_master WHERE type='table';\")\n",
    "tables = cursor.fetchall()\n",
    "tables"
   ]
  },
  {
   "cell_type": "markdown",
   "metadata": {},
   "source": [
    "**Creating** a class to contain the dataframes loaded from the sqlite tables"
   ]
  },
  {
   "cell_type": "code",
   "execution_count": 3,
   "metadata": {},
   "outputs": [],
   "source": [
    "# Creating a collection of the dataframes \n",
    "class DataFrameCollection:\n",
    "    pass\n",
    "dfs = DataFrameCollection()\n",
    "[ dfs.__setattr__( tablename[0], pd.read_sql_query(\"SELECT * FROM \" + tablename[0] + \";\", con) ) for tablename in tables ]\n",
    "dfs.__delattr__('sqlite_sequence')"
   ]
  },
  {
   "cell_type": "markdown",
   "metadata": {},
   "source": [
    "#### Checking how dataframes look like"
   ]
  },
  {
   "cell_type": "code",
   "execution_count": 4,
   "metadata": {
    "scrolled": true
   },
   "outputs": [
    {
     "name": "stdout",
     "output_type": "stream",
     "text": [
      "     id     name\n",
      "0     1  Belgium\n",
      "1  1729  England\n",
      "2  4769   France\n",
      "     id  country_id                    name\n",
      "0     1           1  Belgium Jupiler League\n",
      "1  1729        1729  England Premier League\n",
      "2  4769        4769          France Ligue 1\n",
      "   id  country_id  league_id     season  stage                 date  \\\n",
      "0   1           1          1  2008/2009      1  2008-08-17 00:00:00   \n",
      "1   2           1          1  2008/2009      1  2008-08-16 00:00:00   \n",
      "2   3           1          1  2008/2009      1  2008-08-16 00:00:00   \n",
      "\n",
      "   match_api_id  home_team_api_id  away_team_api_id  home_team_goal  ...  SJA  \\\n",
      "0        492473              9987              9993               1  ...  4.0   \n",
      "1        492474             10000              9994               0  ...  3.8   \n",
      "2        492475              9984              8635               0  ...  2.5   \n",
      "\n",
      "    VCH   VCD   VCA   GBH   GBD   GBA   BSH   BSD   BSA  \n",
      "0  1.65  3.40  4.50  1.78  3.25  4.00  1.73  3.40  4.20  \n",
      "1  2.00  3.25  3.25  1.85  3.25  3.75  1.91  3.25  3.60  \n",
      "2  2.35  3.25  2.65  2.50  3.20  2.50  2.30  3.20  2.75  \n",
      "\n",
      "[3 rows x 115 columns]\n",
      "   id  player_api_id         player_name  player_fifa_api_id  \\\n",
      "0   1         505942  Aaron Appindangoye              218353   \n",
      "1   2         155782     Aaron Cresswell              189615   \n",
      "2   3         162549         Aaron Doran              186170   \n",
      "\n",
      "              birthday  height  weight  \n",
      "0  1992-02-29 00:00:00  182.88     187  \n",
      "1  1989-12-15 00:00:00  170.18     146  \n",
      "2  1991-05-13 00:00:00  170.18     163  \n",
      "   id  player_fifa_api_id  player_api_id                 date  overall_rating  \\\n",
      "0   1              218353         505942  2016-02-18 00:00:00            67.0   \n",
      "1   2              218353         505942  2015-11-19 00:00:00            67.0   \n",
      "2   3              218353         505942  2015-09-21 00:00:00            62.0   \n",
      "\n",
      "   potential preferred_foot attacking_work_rate defensive_work_rate  crossing  \\\n",
      "0       71.0          right              medium              medium      49.0   \n",
      "1       71.0          right              medium              medium      49.0   \n",
      "2       66.0          right              medium              medium      49.0   \n",
      "\n",
      "   ...  vision  penalties  marking  standing_tackle  sliding_tackle  \\\n",
      "0  ...    54.0       48.0     65.0             69.0            69.0   \n",
      "1  ...    54.0       48.0     65.0             69.0            69.0   \n",
      "2  ...    54.0       48.0     65.0             66.0            69.0   \n",
      "\n",
      "   gk_diving  gk_handling  gk_kicking  gk_positioning  gk_reflexes  \n",
      "0        6.0         11.0        10.0             8.0          8.0  \n",
      "1        6.0         11.0        10.0             8.0          8.0  \n",
      "2        6.0         11.0        10.0             8.0          8.0  \n",
      "\n",
      "[3 rows x 42 columns]\n",
      "   id  team_api_id  team_fifa_api_id    team_long_name team_short_name\n",
      "0   1         9987             673.0          KRC Genk             GEN\n",
      "1   2         9993             675.0      Beerschot AC             BAC\n",
      "2   3        10000           15005.0  SV Zulte-Waregem             ZUL\n",
      "   id  team_fifa_api_id  team_api_id                 date  buildUpPlaySpeed  \\\n",
      "0   1               434         9930  2010-02-22 00:00:00                60   \n",
      "1   2               434         9930  2014-09-19 00:00:00                52   \n",
      "2   3               434         9930  2015-09-10 00:00:00                47   \n",
      "\n",
      "  buildUpPlaySpeedClass  buildUpPlayDribbling buildUpPlayDribblingClass  \\\n",
      "0              Balanced                   NaN                    Little   \n",
      "1              Balanced                  48.0                    Normal   \n",
      "2              Balanced                  41.0                    Normal   \n",
      "\n",
      "   buildUpPlayPassing buildUpPlayPassingClass  ... chanceCreationShooting  \\\n",
      "0                  50                   Mixed  ...                     55   \n",
      "1                  56                   Mixed  ...                     64   \n",
      "2                  54                   Mixed  ...                     64   \n",
      "\n",
      "   chanceCreationShootingClass chanceCreationPositioningClass  \\\n",
      "0                       Normal                      Organised   \n",
      "1                       Normal                      Organised   \n",
      "2                       Normal                      Organised   \n",
      "\n",
      "   defencePressure defencePressureClass  defenceAggression  \\\n",
      "0               50               Medium                 55   \n",
      "1               47               Medium                 44   \n",
      "2               47               Medium                 44   \n",
      "\n",
      "  defenceAggressionClass defenceTeamWidth  defenceTeamWidthClass  \\\n",
      "0                  Press               45                 Normal   \n",
      "1                  Press               54                 Normal   \n",
      "2                  Press               54                 Normal   \n",
      "\n",
      "  defenceDefenderLineClass  \n",
      "0                    Cover  \n",
      "1                    Cover  \n",
      "2                    Cover  \n",
      "\n",
      "[3 rows x 25 columns]\n"
     ]
    }
   ],
   "source": [
    "print(dfs.Country.head(3))\n",
    "print(dfs.League.head(3))\n",
    "print(dfs.Match.head(3))\n",
    "print(dfs.Player.head(3))\n",
    "print(dfs.Player_Attributes.head(3))\n",
    "print(dfs.Team.head(3))\n",
    "print(dfs.Team_Attributes.head(3))"
   ]
  },
  {
   "cell_type": "markdown",
   "metadata": {},
   "source": [
    "#### Match table\n",
    "This table seems interesting to me, as it also contains too many columns. \n",
    "\n",
    "Viewing first 30 columns:"
   ]
  },
  {
   "cell_type": "code",
   "execution_count": 5,
   "metadata": {},
   "outputs": [
    {
     "name": "stdout",
     "output_type": "stream",
     "text": [
      "Index(['id', 'country_id', 'league_id', 'season', 'stage', 'date',\n",
      "       'match_api_id', 'home_team_api_id', 'away_team_api_id',\n",
      "       'home_team_goal', 'away_team_goal', 'home_player_X1', 'home_player_X2',\n",
      "       'home_player_X3', 'home_player_X4', 'home_player_X5', 'home_player_X6',\n",
      "       'home_player_X7', 'home_player_X8', 'home_player_X9', 'home_player_X10',\n",
      "       'home_player_X11', 'away_player_X1', 'away_player_X2', 'away_player_X3',\n",
      "       'away_player_X4', 'away_player_X5', 'away_player_X6', 'away_player_X7',\n",
      "       'away_player_X8'],\n",
      "      dtype='object')\n"
     ]
    }
   ],
   "source": [
    "print(dfs.Match.columns[:30])"
   ]
  },
  {
   "cell_type": "markdown",
   "metadata": {},
   "source": [
    "#### Listing tables' columns names"
   ]
  },
  {
   "cell_type": "code",
   "execution_count": 6,
   "metadata": {},
   "outputs": [
    {
     "name": "stdout",
     "output_type": "stream",
     "text": [
      "Index(['id', 'name'], dtype='object')\n",
      "Index(['id', 'country_id', 'name'], dtype='object')\n",
      "Index(['id', 'country_id', 'league_id', 'season', 'stage', 'date',\n",
      "       'match_api_id', 'home_team_api_id', 'away_team_api_id',\n",
      "       'home_team_goal',\n",
      "       ...\n",
      "       'SJA', 'VCH', 'VCD', 'VCA', 'GBH', 'GBD', 'GBA', 'BSH', 'BSD', 'BSA'],\n",
      "      dtype='object', length=115)\n",
      "Index(['id', 'player_api_id', 'player_name', 'player_fifa_api_id', 'birthday',\n",
      "       'height', 'weight'],\n",
      "      dtype='object')\n",
      "Index(['id', 'player_fifa_api_id', 'player_api_id', 'date', 'overall_rating',\n",
      "       'potential', 'preferred_foot', 'attacking_work_rate',\n",
      "       'defensive_work_rate', 'crossing', 'finishing', 'heading_accuracy',\n",
      "       'short_passing', 'volleys', 'dribbling', 'curve', 'free_kick_accuracy',\n",
      "       'long_passing', 'ball_control', 'acceleration', 'sprint_speed',\n",
      "       'agility', 'reactions', 'balance', 'shot_power', 'jumping', 'stamina',\n",
      "       'strength', 'long_shots', 'aggression', 'interceptions', 'positioning',\n",
      "       'vision', 'penalties', 'marking', 'standing_tackle', 'sliding_tackle',\n",
      "       'gk_diving', 'gk_handling', 'gk_kicking', 'gk_positioning',\n",
      "       'gk_reflexes'],\n",
      "      dtype='object')\n",
      "Index(['id', 'team_api_id', 'team_fifa_api_id', 'team_long_name',\n",
      "       'team_short_name'],\n",
      "      dtype='object')\n",
      "Index(['id', 'team_fifa_api_id', 'team_api_id', 'date', 'buildUpPlaySpeed',\n",
      "       'buildUpPlaySpeedClass', 'buildUpPlayDribbling',\n",
      "       'buildUpPlayDribblingClass', 'buildUpPlayPassing',\n",
      "       'buildUpPlayPassingClass', 'buildUpPlayPositioningClass',\n",
      "       'chanceCreationPassing', 'chanceCreationPassingClass',\n",
      "       'chanceCreationCrossing', 'chanceCreationCrossingClass',\n",
      "       'chanceCreationShooting', 'chanceCreationShootingClass',\n",
      "       'chanceCreationPositioningClass', 'defencePressure',\n",
      "       'defencePressureClass', 'defenceAggression', 'defenceAggressionClass',\n",
      "       'defenceTeamWidth', 'defenceTeamWidthClass',\n",
      "       'defenceDefenderLineClass'],\n",
      "      dtype='object')\n"
     ]
    }
   ],
   "source": [
    "print(dfs.Country.columns)\n",
    "print(dfs.League.columns)\n",
    "print(dfs.Match.columns)\n",
    "print(dfs.Player.columns)\n",
    "print(dfs.Player_Attributes.columns)\n",
    "print(dfs.Team.columns)\n",
    "print(dfs.Team_Attributes.columns)"
   ]
  },
  {
   "cell_type": "markdown",
   "metadata": {},
   "source": [
    "#### how is the data looking like in Match table\n",
    "Here I am getting a sense about the data in this table that I am interested about"
   ]
  },
  {
   "cell_type": "code",
   "execution_count": 7,
   "metadata": {},
   "outputs": [
    {
     "data": {
      "text/html": [
       "<div>\n",
       "<style scoped>\n",
       "    .dataframe tbody tr th:only-of-type {\n",
       "        vertical-align: middle;\n",
       "    }\n",
       "\n",
       "    .dataframe tbody tr th {\n",
       "        vertical-align: top;\n",
       "    }\n",
       "\n",
       "    .dataframe thead th {\n",
       "        text-align: right;\n",
       "    }\n",
       "</style>\n",
       "<table border=\"1\" class=\"dataframe\">\n",
       "  <thead>\n",
       "    <tr style=\"text-align: right;\">\n",
       "      <th></th>\n",
       "      <th>id</th>\n",
       "      <th>country_id</th>\n",
       "      <th>league_id</th>\n",
       "      <th>season</th>\n",
       "      <th>stage</th>\n",
       "      <th>date</th>\n",
       "      <th>match_api_id</th>\n",
       "      <th>home_team_api_id</th>\n",
       "      <th>away_team_api_id</th>\n",
       "      <th>home_team_goal</th>\n",
       "      <th>...</th>\n",
       "      <th>SJA</th>\n",
       "      <th>VCH</th>\n",
       "      <th>VCD</th>\n",
       "      <th>VCA</th>\n",
       "      <th>GBH</th>\n",
       "      <th>GBD</th>\n",
       "      <th>GBA</th>\n",
       "      <th>BSH</th>\n",
       "      <th>BSD</th>\n",
       "      <th>BSA</th>\n",
       "    </tr>\n",
       "  </thead>\n",
       "  <tbody>\n",
       "    <tr>\n",
       "      <th>0</th>\n",
       "      <td>1</td>\n",
       "      <td>1</td>\n",
       "      <td>1</td>\n",
       "      <td>2008/2009</td>\n",
       "      <td>1</td>\n",
       "      <td>2008-08-17 00:00:00</td>\n",
       "      <td>492473</td>\n",
       "      <td>9987</td>\n",
       "      <td>9993</td>\n",
       "      <td>1</td>\n",
       "      <td>...</td>\n",
       "      <td>4.00</td>\n",
       "      <td>1.65</td>\n",
       "      <td>3.40</td>\n",
       "      <td>4.50</td>\n",
       "      <td>1.78</td>\n",
       "      <td>3.25</td>\n",
       "      <td>4.00</td>\n",
       "      <td>1.73</td>\n",
       "      <td>3.40</td>\n",
       "      <td>4.20</td>\n",
       "    </tr>\n",
       "    <tr>\n",
       "      <th>1</th>\n",
       "      <td>2</td>\n",
       "      <td>1</td>\n",
       "      <td>1</td>\n",
       "      <td>2008/2009</td>\n",
       "      <td>1</td>\n",
       "      <td>2008-08-16 00:00:00</td>\n",
       "      <td>492474</td>\n",
       "      <td>10000</td>\n",
       "      <td>9994</td>\n",
       "      <td>0</td>\n",
       "      <td>...</td>\n",
       "      <td>3.80</td>\n",
       "      <td>2.00</td>\n",
       "      <td>3.25</td>\n",
       "      <td>3.25</td>\n",
       "      <td>1.85</td>\n",
       "      <td>3.25</td>\n",
       "      <td>3.75</td>\n",
       "      <td>1.91</td>\n",
       "      <td>3.25</td>\n",
       "      <td>3.60</td>\n",
       "    </tr>\n",
       "    <tr>\n",
       "      <th>2</th>\n",
       "      <td>3</td>\n",
       "      <td>1</td>\n",
       "      <td>1</td>\n",
       "      <td>2008/2009</td>\n",
       "      <td>1</td>\n",
       "      <td>2008-08-16 00:00:00</td>\n",
       "      <td>492475</td>\n",
       "      <td>9984</td>\n",
       "      <td>8635</td>\n",
       "      <td>0</td>\n",
       "      <td>...</td>\n",
       "      <td>2.50</td>\n",
       "      <td>2.35</td>\n",
       "      <td>3.25</td>\n",
       "      <td>2.65</td>\n",
       "      <td>2.50</td>\n",
       "      <td>3.20</td>\n",
       "      <td>2.50</td>\n",
       "      <td>2.30</td>\n",
       "      <td>3.20</td>\n",
       "      <td>2.75</td>\n",
       "    </tr>\n",
       "    <tr>\n",
       "      <th>3</th>\n",
       "      <td>4</td>\n",
       "      <td>1</td>\n",
       "      <td>1</td>\n",
       "      <td>2008/2009</td>\n",
       "      <td>1</td>\n",
       "      <td>2008-08-17 00:00:00</td>\n",
       "      <td>492476</td>\n",
       "      <td>9991</td>\n",
       "      <td>9998</td>\n",
       "      <td>5</td>\n",
       "      <td>...</td>\n",
       "      <td>7.50</td>\n",
       "      <td>1.45</td>\n",
       "      <td>3.75</td>\n",
       "      <td>6.50</td>\n",
       "      <td>1.50</td>\n",
       "      <td>3.75</td>\n",
       "      <td>5.50</td>\n",
       "      <td>1.44</td>\n",
       "      <td>3.75</td>\n",
       "      <td>6.50</td>\n",
       "    </tr>\n",
       "    <tr>\n",
       "      <th>4</th>\n",
       "      <td>5</td>\n",
       "      <td>1</td>\n",
       "      <td>1</td>\n",
       "      <td>2008/2009</td>\n",
       "      <td>1</td>\n",
       "      <td>2008-08-16 00:00:00</td>\n",
       "      <td>492477</td>\n",
       "      <td>7947</td>\n",
       "      <td>9985</td>\n",
       "      <td>1</td>\n",
       "      <td>...</td>\n",
       "      <td>1.73</td>\n",
       "      <td>4.50</td>\n",
       "      <td>3.40</td>\n",
       "      <td>1.65</td>\n",
       "      <td>4.50</td>\n",
       "      <td>3.50</td>\n",
       "      <td>1.65</td>\n",
       "      <td>4.75</td>\n",
       "      <td>3.30</td>\n",
       "      <td>1.67</td>\n",
       "    </tr>\n",
       "    <tr>\n",
       "      <th>5</th>\n",
       "      <td>6</td>\n",
       "      <td>1</td>\n",
       "      <td>1</td>\n",
       "      <td>2008/2009</td>\n",
       "      <td>1</td>\n",
       "      <td>2008-09-24 00:00:00</td>\n",
       "      <td>492478</td>\n",
       "      <td>8203</td>\n",
       "      <td>8342</td>\n",
       "      <td>1</td>\n",
       "      <td>...</td>\n",
       "      <td>1.67</td>\n",
       "      <td>4.35</td>\n",
       "      <td>3.40</td>\n",
       "      <td>1.70</td>\n",
       "      <td>4.50</td>\n",
       "      <td>3.40</td>\n",
       "      <td>1.70</td>\n",
       "      <td>NaN</td>\n",
       "      <td>NaN</td>\n",
       "      <td>NaN</td>\n",
       "    </tr>\n",
       "    <tr>\n",
       "      <th>6</th>\n",
       "      <td>7</td>\n",
       "      <td>1</td>\n",
       "      <td>1</td>\n",
       "      <td>2008/2009</td>\n",
       "      <td>1</td>\n",
       "      <td>2008-08-16 00:00:00</td>\n",
       "      <td>492479</td>\n",
       "      <td>9999</td>\n",
       "      <td>8571</td>\n",
       "      <td>2</td>\n",
       "      <td>...</td>\n",
       "      <td>3.60</td>\n",
       "      <td>2.10</td>\n",
       "      <td>3.25</td>\n",
       "      <td>3.00</td>\n",
       "      <td>1.85</td>\n",
       "      <td>3.25</td>\n",
       "      <td>3.75</td>\n",
       "      <td>2.10</td>\n",
       "      <td>3.25</td>\n",
       "      <td>3.10</td>\n",
       "    </tr>\n",
       "    <tr>\n",
       "      <th>7</th>\n",
       "      <td>8</td>\n",
       "      <td>1</td>\n",
       "      <td>1</td>\n",
       "      <td>2008/2009</td>\n",
       "      <td>1</td>\n",
       "      <td>2008-08-16 00:00:00</td>\n",
       "      <td>492480</td>\n",
       "      <td>4049</td>\n",
       "      <td>9996</td>\n",
       "      <td>1</td>\n",
       "      <td>...</td>\n",
       "      <td>2.40</td>\n",
       "      <td>2.80</td>\n",
       "      <td>3.25</td>\n",
       "      <td>2.25</td>\n",
       "      <td>2.80</td>\n",
       "      <td>3.20</td>\n",
       "      <td>2.25</td>\n",
       "      <td>2.88</td>\n",
       "      <td>3.25</td>\n",
       "      <td>2.20</td>\n",
       "    </tr>\n",
       "    <tr>\n",
       "      <th>8</th>\n",
       "      <td>9</td>\n",
       "      <td>1</td>\n",
       "      <td>1</td>\n",
       "      <td>2008/2009</td>\n",
       "      <td>1</td>\n",
       "      <td>2008-08-16 00:00:00</td>\n",
       "      <td>492481</td>\n",
       "      <td>10001</td>\n",
       "      <td>9986</td>\n",
       "      <td>1</td>\n",
       "      <td>...</td>\n",
       "      <td>3.10</td>\n",
       "      <td>2.25</td>\n",
       "      <td>3.25</td>\n",
       "      <td>2.80</td>\n",
       "      <td>2.20</td>\n",
       "      <td>3.30</td>\n",
       "      <td>2.80</td>\n",
       "      <td>2.25</td>\n",
       "      <td>3.20</td>\n",
       "      <td>2.80</td>\n",
       "    </tr>\n",
       "    <tr>\n",
       "      <th>9</th>\n",
       "      <td>10</td>\n",
       "      <td>1</td>\n",
       "      <td>1</td>\n",
       "      <td>2008/2009</td>\n",
       "      <td>10</td>\n",
       "      <td>2008-11-01 00:00:00</td>\n",
       "      <td>492564</td>\n",
       "      <td>8342</td>\n",
       "      <td>8571</td>\n",
       "      <td>4</td>\n",
       "      <td>...</td>\n",
       "      <td>10.00</td>\n",
       "      <td>1.30</td>\n",
       "      <td>4.35</td>\n",
       "      <td>8.50</td>\n",
       "      <td>1.25</td>\n",
       "      <td>5.00</td>\n",
       "      <td>10.00</td>\n",
       "      <td>1.29</td>\n",
       "      <td>4.50</td>\n",
       "      <td>9.00</td>\n",
       "    </tr>\n",
       "  </tbody>\n",
       "</table>\n",
       "<p>10 rows × 115 columns</p>\n",
       "</div>"
      ],
      "text/plain": [
       "   id  country_id  league_id     season  stage                 date  \\\n",
       "0   1           1          1  2008/2009      1  2008-08-17 00:00:00   \n",
       "1   2           1          1  2008/2009      1  2008-08-16 00:00:00   \n",
       "2   3           1          1  2008/2009      1  2008-08-16 00:00:00   \n",
       "3   4           1          1  2008/2009      1  2008-08-17 00:00:00   \n",
       "4   5           1          1  2008/2009      1  2008-08-16 00:00:00   \n",
       "5   6           1          1  2008/2009      1  2008-09-24 00:00:00   \n",
       "6   7           1          1  2008/2009      1  2008-08-16 00:00:00   \n",
       "7   8           1          1  2008/2009      1  2008-08-16 00:00:00   \n",
       "8   9           1          1  2008/2009      1  2008-08-16 00:00:00   \n",
       "9  10           1          1  2008/2009     10  2008-11-01 00:00:00   \n",
       "\n",
       "   match_api_id  home_team_api_id  away_team_api_id  home_team_goal  ...  \\\n",
       "0        492473              9987              9993               1  ...   \n",
       "1        492474             10000              9994               0  ...   \n",
       "2        492475              9984              8635               0  ...   \n",
       "3        492476              9991              9998               5  ...   \n",
       "4        492477              7947              9985               1  ...   \n",
       "5        492478              8203              8342               1  ...   \n",
       "6        492479              9999              8571               2  ...   \n",
       "7        492480              4049              9996               1  ...   \n",
       "8        492481             10001              9986               1  ...   \n",
       "9        492564              8342              8571               4  ...   \n",
       "\n",
       "     SJA   VCH   VCD   VCA   GBH   GBD    GBA   BSH   BSD   BSA  \n",
       "0   4.00  1.65  3.40  4.50  1.78  3.25   4.00  1.73  3.40  4.20  \n",
       "1   3.80  2.00  3.25  3.25  1.85  3.25   3.75  1.91  3.25  3.60  \n",
       "2   2.50  2.35  3.25  2.65  2.50  3.20   2.50  2.30  3.20  2.75  \n",
       "3   7.50  1.45  3.75  6.50  1.50  3.75   5.50  1.44  3.75  6.50  \n",
       "4   1.73  4.50  3.40  1.65  4.50  3.50   1.65  4.75  3.30  1.67  \n",
       "5   1.67  4.35  3.40  1.70  4.50  3.40   1.70   NaN   NaN   NaN  \n",
       "6   3.60  2.10  3.25  3.00  1.85  3.25   3.75  2.10  3.25  3.10  \n",
       "7   2.40  2.80  3.25  2.25  2.80  3.20   2.25  2.88  3.25  2.20  \n",
       "8   3.10  2.25  3.25  2.80  2.20  3.30   2.80  2.25  3.20  2.80  \n",
       "9  10.00  1.30  4.35  8.50  1.25  5.00  10.00  1.29  4.50  9.00  \n",
       "\n",
       "[10 rows x 115 columns]"
      ]
     },
     "execution_count": 7,
     "metadata": {},
     "output_type": "execute_result"
    }
   ],
   "source": [
    "dfs.Match.head(10)"
   ]
  },
  {
   "cell_type": "markdown",
   "metadata": {},
   "source": [
    "> In the next step, the data shall be cleaned to suit my goal.\n",
    "\n",
    "### Data Cleaning (Form a table that represents team results)\n",
    "\n",
    "At this stage the aim is to collect team attributes and end of season results (points) to find a candidate correlation. Before getting the `points`, I am cleaning the data aiming at getting the number of wins, losses and draws throughout each season for each team."
   ]
  },
  {
   "cell_type": "markdown",
   "metadata": {},
   "source": [
    " #### add year column to match and team_attributes tables\n",
    " \n",
    " Here a simple operation to trime the date and extract the year into a new column"
   ]
  },
  {
   "cell_type": "code",
   "execution_count": 8,
   "metadata": {},
   "outputs": [
    {
     "name": "stdout",
     "output_type": "stream",
     "text": [
      "Number of nulls in date column in Team Attributes table is:  0\n",
      "Number of nulls in date column in Matches Table is:  0\n",
      "If value is 0  then first four characters of date are numeric - value =  0\n",
      "If value is 0  then first four characters of date are numeric - value =  0\n"
     ]
    }
   ],
   "source": [
    "\n",
    "print(\"Number of nulls in date column in Team Attributes table is: \", dfs.Team_Attributes.date.isnull().sum())\n",
    "print(\"Number of nulls in date column in Matches Table is: \", dfs.Match.date.isnull().sum())\n",
    "\n",
    "## Checking if date in both tables start by year\n",
    "print(\"If value is 0  then first four characters of date are numeric - value = \",\\\n",
    "      dfs.Team_Attributes.date.apply(lambda d: not d[:4].isnumeric()).sum())\n",
    "print(\"If value is 0  then first four characters of date are numeric - value = \",\\\n",
    "      dfs.Match.date.apply(lambda d: not d[:4].isnumeric()).sum())\n",
    "\n",
    "## add year column to both tables and make it int\n",
    "dfs.Match[\"Year\"] = dfs.Match.date.apply(lambda d:  int(d[:4]))\n",
    "dfs.Team_Attributes[\"Year\"] = dfs.Team_Attributes.date.apply(lambda d:  int(d[:4]))"
   ]
  },
  {
   "cell_type": "markdown",
   "metadata": {},
   "source": [
    "#### Add season column to Team_attributes\n",
    "\n",
    "A season takes place on a yearly basis , it will require some hectic processing because it takes place within two years (i.e. 2008/2009)"
   ]
  },
  {
   "cell_type": "markdown",
   "metadata": {},
   "source": [
    "In Match Table groupby season applying max function to find end_season_date (end_d) when season ends"
   ]
  },
  {
   "cell_type": "code",
   "execution_count": 9,
   "metadata": {},
   "outputs": [],
   "source": [
    "## MIGHT Use regular expressions to check date format in both tables\n",
    "## MIGHT convert date string to datetime or check if it is already datetime\n",
    "\n",
    "end_season_df = dfs.Match.loc[:, ['season', 'date']].groupby('season').max()\n"
   ]
  },
  {
   "cell_type": "markdown",
   "metadata": {},
   "source": [
    "Get a sense about the end date of the season"
   ]
  },
  {
   "cell_type": "code",
   "execution_count": 10,
   "metadata": {},
   "outputs": [
    {
     "name": "stdout",
     "output_type": "stream",
     "text": [
      "When seasons end: \n",
      "                           date\n",
      "season                        \n",
      "2008/2009  2009-05-31 00:00:00\n",
      "2009/2010  2010-05-16 00:00:00\n",
      "2010/2011  2011-05-29 00:00:00\n",
      "2011/2012  2012-05-23 00:00:00\n",
      "2012/2013  2013-06-02 00:00:00\n",
      "2013/2014  2014-05-18 00:00:00\n",
      "2014/2015  2015-05-31 00:00:00\n",
      "2015/2016  2016-05-25 00:00:00\n"
     ]
    }
   ],
   "source": [
    "\n",
    "print(\"When seasons end: \\n\", end_season_df)"
   ]
  },
  {
   "cell_type": "markdown",
   "metadata": {},
   "source": [
    "It's found around the second half of May"
   ]
  },
  {
   "cell_type": "markdown",
   "metadata": {},
   "source": [
    "> In Team_Attributes Table check date (d) of year (y) if d > end_d of season y-1/y then season is y/y+1\n",
    "\n",
    "Create an inline function that takes a year representing start of season (i.e. 2008) and outputs a season (i.e. 2008/2009)"
   ]
  },
  {
   "cell_type": "code",
   "execution_count": 11,
   "metadata": {},
   "outputs": [],
   "source": [
    "yearToSeason = lambda y: \"%d/%d\"%((y-1), y)"
   ]
  },
  {
   "cell_type": "markdown",
   "metadata": {},
   "source": [
    "Applying the function to two columns"
   ]
  },
  {
   "cell_type": "code",
   "execution_count": 12,
   "metadata": {},
   "outputs": [],
   "source": [
    "dfs.Team_Attributes['season'] = dfs.Team_Attributes.loc[:, [\"Year\", \"date\"]].apply(lambda record: \"%d/%d\"%(record.Year, record.Year+1) if (record.date > end_season_df.loc[yearToSeason(record.Year)]).any() else \"%d/%d\"%(record.Year-1, record.Year), axis=1)\n"
   ]
  },
  {
   "cell_type": "markdown",
   "metadata": {},
   "source": [
    "Let's take a peek to check "
   ]
  },
  {
   "cell_type": "code",
   "execution_count": 13,
   "metadata": {},
   "outputs": [
    {
     "data": {
      "text/html": [
       "<div>\n",
       "<style scoped>\n",
       "    .dataframe tbody tr th:only-of-type {\n",
       "        vertical-align: middle;\n",
       "    }\n",
       "\n",
       "    .dataframe tbody tr th {\n",
       "        vertical-align: top;\n",
       "    }\n",
       "\n",
       "    .dataframe thead th {\n",
       "        text-align: right;\n",
       "    }\n",
       "</style>\n",
       "<table border=\"1\" class=\"dataframe\">\n",
       "  <thead>\n",
       "    <tr style=\"text-align: right;\">\n",
       "      <th></th>\n",
       "      <th>season</th>\n",
       "      <th>date</th>\n",
       "    </tr>\n",
       "  </thead>\n",
       "  <tbody>\n",
       "    <tr>\n",
       "      <th>0</th>\n",
       "      <td>2009/2010</td>\n",
       "      <td>2010-02-22 00:00:00</td>\n",
       "    </tr>\n",
       "    <tr>\n",
       "      <th>1</th>\n",
       "      <td>2014/2015</td>\n",
       "      <td>2014-09-19 00:00:00</td>\n",
       "    </tr>\n",
       "    <tr>\n",
       "      <th>2</th>\n",
       "      <td>2015/2016</td>\n",
       "      <td>2015-09-10 00:00:00</td>\n",
       "    </tr>\n",
       "    <tr>\n",
       "      <th>3</th>\n",
       "      <td>2009/2010</td>\n",
       "      <td>2010-02-22 00:00:00</td>\n",
       "    </tr>\n",
       "    <tr>\n",
       "      <th>4</th>\n",
       "      <td>2010/2011</td>\n",
       "      <td>2011-02-22 00:00:00</td>\n",
       "    </tr>\n",
       "    <tr>\n",
       "      <th>5</th>\n",
       "      <td>2011/2012</td>\n",
       "      <td>2012-02-22 00:00:00</td>\n",
       "    </tr>\n",
       "    <tr>\n",
       "      <th>6</th>\n",
       "      <td>2013/2014</td>\n",
       "      <td>2013-09-20 00:00:00</td>\n",
       "    </tr>\n",
       "    <tr>\n",
       "      <th>7</th>\n",
       "      <td>2014/2015</td>\n",
       "      <td>2014-09-19 00:00:00</td>\n",
       "    </tr>\n",
       "    <tr>\n",
       "      <th>8</th>\n",
       "      <td>2015/2016</td>\n",
       "      <td>2015-09-10 00:00:00</td>\n",
       "    </tr>\n",
       "    <tr>\n",
       "      <th>9</th>\n",
       "      <td>2009/2010</td>\n",
       "      <td>2010-02-22 00:00:00</td>\n",
       "    </tr>\n",
       "  </tbody>\n",
       "</table>\n",
       "</div>"
      ],
      "text/plain": [
       "      season                 date\n",
       "0  2009/2010  2010-02-22 00:00:00\n",
       "1  2014/2015  2014-09-19 00:00:00\n",
       "2  2015/2016  2015-09-10 00:00:00\n",
       "3  2009/2010  2010-02-22 00:00:00\n",
       "4  2010/2011  2011-02-22 00:00:00\n",
       "5  2011/2012  2012-02-22 00:00:00\n",
       "6  2013/2014  2013-09-20 00:00:00\n",
       "7  2014/2015  2014-09-19 00:00:00\n",
       "8  2015/2016  2015-09-10 00:00:00\n",
       "9  2009/2010  2010-02-22 00:00:00"
      ]
     },
     "execution_count": 13,
     "metadata": {},
     "output_type": "execute_result"
    }
   ],
   "source": [
    "dfs.Team_Attributes.loc[:,['season', 'date']].head(10)"
   ]
  },
  {
   "cell_type": "markdown",
   "metadata": {},
   "source": [
    "> Fill Team Attributes with wins, losses and draws\n",
    "\n",
    "First we do that in Match table with home_teams, hence the name of the columns `home_win` which resembles the fact that home team has beaten the away team, `away_win`which resembles that the away team has beaten the home team and `match_draw` which resembles that the match ended as a draw."
   ]
  },
  {
   "cell_type": "code",
   "execution_count": 14,
   "metadata": {},
   "outputs": [],
   "source": [
    "cols = ['season', 'home_team_api_id', 'away_team_api_id', 'home_team_goal', 'away_team_goal']\n",
    "\n",
    "dfs.__setattr__(\"match_clean\", dfs.Match.loc[:, cols].copy())\n",
    "\n",
    "dfs.match_clean[\"home_win\"] = dfs.match_clean.home_team_goal > dfs.match_clean.away_team_goal\n",
    "dfs.match_clean[\"home_loss\"] = dfs.match_clean.home_team_goal < dfs.match_clean.away_team_goal\n",
    "dfs.match_clean[\"match_draw\"] = dfs.match_clean.home_team_goal == dfs.match_clean.away_team_goal"
   ]
  },
  {
   "cell_type": "markdown",
   "metadata": {},
   "source": [
    "At this step the aim is to groubby the `season` and `home_team_api_id` also same is done with `season` and `away_team_api_id` so that at the end both dataframes are to be merged.\n",
    "\n",
    "Note that a `home_loss` attribute also means the same if we say away_win."
   ]
  },
  {
   "cell_type": "code",
   "execution_count": 15,
   "metadata": {},
   "outputs": [],
   "source": [
    "## match_clean Table groupby to get number of wins\n",
    "## Revisit : remember columns in Team_Attributes Table\n",
    "cols1 = [\"season\",\"home_team_api_id\", \"home_win\", \"home_loss\", \"match_draw\"]\n",
    "cols2 = [\"season\",\"away_team_api_id\", \"home_win\", \"home_loss\", \"match_draw\"]\n",
    "\n",
    "tmp_home_stats = dfs.match_clean.loc[:, cols1].groupby([\"season\", \"home_team_api_id\"]).sum()\n",
    "tmp_away_stats = dfs.match_clean.loc[:, cols2].groupby([\"season\", \"away_team_api_id\"]).sum()\n",
    "tmp_home_stats.rename(columns={\"home_win\":\"win\", \"home_loss\": \"loss\", \"home_team_api_id\": \"team_api_id\"}, inplace=True)\n",
    "tmp_away_stats.rename(columns={\"home_win\":\"loss\", \"home_loss\": \"win\", \"away_team_api_id\": \"team_api_id\"}, inplace=True)\n"
   ]
  },
  {
   "cell_type": "markdown",
   "metadata": {},
   "source": [
    "At this point I am aiming at merging both `tmp_home_stats` and `tmp_away_stats` properly into one dataframe.\n",
    "\n",
    "At the beginning of this step I need to reset the multi-index output which resulted from using `groupby`\n",
    "\n"
   ]
  },
  {
   "cell_type": "code",
   "execution_count": 16,
   "metadata": {},
   "outputs": [
    {
     "data": {
      "text/html": [
       "<div>\n",
       "<style scoped>\n",
       "    .dataframe tbody tr th:only-of-type {\n",
       "        vertical-align: middle;\n",
       "    }\n",
       "\n",
       "    .dataframe tbody tr th {\n",
       "        vertical-align: top;\n",
       "    }\n",
       "\n",
       "    .dataframe thead th {\n",
       "        text-align: right;\n",
       "    }\n",
       "</style>\n",
       "<table border=\"1\" class=\"dataframe\">\n",
       "  <thead>\n",
       "    <tr style=\"text-align: right;\">\n",
       "      <th></th>\n",
       "      <th>season</th>\n",
       "      <th>team_api_id</th>\n",
       "      <th>loss</th>\n",
       "      <th>win</th>\n",
       "      <th>match_draw</th>\n",
       "    </tr>\n",
       "  </thead>\n",
       "  <tbody>\n",
       "    <tr>\n",
       "      <th>0</th>\n",
       "      <td>2008/2009</td>\n",
       "      <td>1601</td>\n",
       "      <td>8.0</td>\n",
       "      <td>3.0</td>\n",
       "      <td>4.0</td>\n",
       "    </tr>\n",
       "    <tr>\n",
       "      <th>1</th>\n",
       "      <td>2008/2009</td>\n",
       "      <td>1957</td>\n",
       "      <td>10.0</td>\n",
       "      <td>0.0</td>\n",
       "      <td>5.0</td>\n",
       "    </tr>\n",
       "    <tr>\n",
       "      <th>2</th>\n",
       "      <td>2008/2009</td>\n",
       "      <td>2182</td>\n",
       "      <td>2.0</td>\n",
       "      <td>9.0</td>\n",
       "      <td>4.0</td>\n",
       "    </tr>\n",
       "    <tr>\n",
       "      <th>3</th>\n",
       "      <td>2008/2009</td>\n",
       "      <td>2183</td>\n",
       "      <td>4.0</td>\n",
       "      <td>8.0</td>\n",
       "      <td>3.0</td>\n",
       "    </tr>\n",
       "    <tr>\n",
       "      <th>4</th>\n",
       "      <td>2008/2009</td>\n",
       "      <td>2186</td>\n",
       "      <td>11.0</td>\n",
       "      <td>1.0</td>\n",
       "      <td>3.0</td>\n",
       "    </tr>\n",
       "    <tr>\n",
       "      <th>...</th>\n",
       "      <td>...</td>\n",
       "      <td>...</td>\n",
       "      <td>...</td>\n",
       "      <td>...</td>\n",
       "      <td>...</td>\n",
       "    </tr>\n",
       "    <tr>\n",
       "      <th>1476</th>\n",
       "      <td>2015/2016</td>\n",
       "      <td>158085</td>\n",
       "      <td>3.0</td>\n",
       "      <td>5.0</td>\n",
       "      <td>9.0</td>\n",
       "    </tr>\n",
       "    <tr>\n",
       "      <th>1477</th>\n",
       "      <td>2015/2016</td>\n",
       "      <td>177361</td>\n",
       "      <td>7.0</td>\n",
       "      <td>3.0</td>\n",
       "      <td>5.0</td>\n",
       "    </tr>\n",
       "    <tr>\n",
       "      <th>1478</th>\n",
       "      <td>2015/2016</td>\n",
       "      <td>188163</td>\n",
       "      <td>10.0</td>\n",
       "      <td>5.0</td>\n",
       "      <td>2.0</td>\n",
       "    </tr>\n",
       "    <tr>\n",
       "      <th>1479</th>\n",
       "      <td>2015/2016</td>\n",
       "      <td>208931</td>\n",
       "      <td>10.0</td>\n",
       "      <td>3.0</td>\n",
       "      <td>6.0</td>\n",
       "    </tr>\n",
       "    <tr>\n",
       "      <th>1480</th>\n",
       "      <td>2015/2016</td>\n",
       "      <td>274581</td>\n",
       "      <td>7.0</td>\n",
       "      <td>4.0</td>\n",
       "      <td>4.0</td>\n",
       "    </tr>\n",
       "  </tbody>\n",
       "</table>\n",
       "<p>1481 rows × 5 columns</p>\n",
       "</div>"
      ],
      "text/plain": [
       "         season  team_api_id  loss  win  match_draw\n",
       "0     2008/2009         1601   8.0  3.0         4.0\n",
       "1     2008/2009         1957  10.0  0.0         5.0\n",
       "2     2008/2009         2182   2.0  9.0         4.0\n",
       "3     2008/2009         2183   4.0  8.0         3.0\n",
       "4     2008/2009         2186  11.0  1.0         3.0\n",
       "...         ...          ...   ...  ...         ...\n",
       "1476  2015/2016       158085   3.0  5.0         9.0\n",
       "1477  2015/2016       177361   7.0  3.0         5.0\n",
       "1478  2015/2016       188163  10.0  5.0         2.0\n",
       "1479  2015/2016       208931  10.0  3.0         6.0\n",
       "1480  2015/2016       274581   7.0  4.0         4.0\n",
       "\n",
       "[1481 rows x 5 columns]"
      ]
     },
     "execution_count": 16,
     "metadata": {},
     "output_type": "execute_result"
    }
   ],
   "source": [
    "## Merge home and away stats into one dataframe\n",
    "tmp_home_stats.reset_index(inplace=True)\n",
    "tmp_home_stats.rename(columns={\"home_team_api_id\": \"team_api_id\"}, inplace=True)\n",
    "tmp_home_stats\n",
    "tmp_away_stats.reset_index(inplace=True)\n",
    "tmp_away_stats.rename(columns={\"away_team_api_id\": \"team_api_id\"}, inplace=True)\n",
    "tmp_away_stats"
   ]
  },
  {
   "cell_type": "markdown",
   "metadata": {},
   "source": [
    "Now we merge both dataframes into `team_stats`"
   ]
  },
  {
   "cell_type": "code",
   "execution_count": 17,
   "metadata": {},
   "outputs": [],
   "source": [
    "team_stats = pd.merge(tmp_home_stats, tmp_away_stats, how=\"inner\", left_on =['season', 'team_api_id'], right_on =['season', 'team_api_id'])"
   ]
  },
  {
   "cell_type": "markdown",
   "metadata": {},
   "source": [
    "After merging I get new columns `['win_x', 'loss_x', 'match_draw_x']` and `['win_y', 'loss_y', 'match_draw_y']`. Just a simple `sum` operation is enough to aggregate each two corresponding columns `_x` & `_y` to give us `['win', 'loss', 'match_draw']`"
   ]
  },
  {
   "cell_type": "code",
   "execution_count": 18,
   "metadata": {},
   "outputs": [],
   "source": [
    "\n",
    "cols = ['win', 'loss', 'match_draw']\n",
    "cols1 = ['win_x', 'loss_x', 'match_draw_x']\n",
    "cols2= ['win_y', 'loss_y', 'match_draw_y']\n",
    "for i in range(len(cols)):\n",
    "    team_stats[cols[i]] =team_stats.loc[:, cols1[i]] + team_stats.loc[:, cols2[i]]\n",
    "    team_stats.drop(columns=[cols1[i], cols2[i]], inplace=True)"
   ]
  },
  {
   "cell_type": "markdown",
   "metadata": {},
   "source": [
    "Get Team points 3xWins + 1xDraws\n"
   ]
  },
  {
   "cell_type": "code",
   "execution_count": 19,
   "metadata": {},
   "outputs": [],
   "source": [
    "team_stats['points'] = 3*team_stats.win + team_stats.match_draw\n",
    "team_stats.drop(columns=cols, inplace=True)"
   ]
  },
  {
   "cell_type": "markdown",
   "metadata": {},
   "source": [
    " remove '20' from season years so that i.e. `2008/2009` be `08/09`"
   ]
  },
  {
   "cell_type": "code",
   "execution_count": 20,
   "metadata": {},
   "outputs": [],
   "source": [
    "team_stats.season = team_stats.season.apply(lambda x: x[2:5]+x[7:])"
   ]
  },
  {
   "cell_type": "markdown",
   "metadata": {},
   "source": [
    "Finally I set back a multi-index for `season` and `team_api_id` tobe used for the next section"
   ]
  },
  {
   "cell_type": "code",
   "execution_count": 21,
   "metadata": {},
   "outputs": [],
   "source": [
    "team_stats = team_stats.set_index(['team_api_id', 'season'])"
   ]
  },
  {
   "cell_type": "markdown",
   "metadata": {},
   "source": [
    "<a id='eda'></a>\n",
    "## Exploratory Data Analysis\n",
    "\n",
    "\n",
    "\n",
    "### Research Question 1 (Which teams Improved the most !)"
   ]
  },
  {
   "cell_type": "markdown",
   "metadata": {},
   "source": [
    "#### Teams with best upward trend\n",
    "\n",
    "Looking for teams with best improvement calculated by the difference between the number of points in their last season and their first season."
   ]
  },
  {
   "cell_type": "code",
   "execution_count": 22,
   "metadata": {},
   "outputs": [],
   "source": [
    "\n",
    "\n",
    "cols1=[\"08/09\", \"09/10\", \"10/11\", \"11/12\", \"12/13\", \"14,15\"]\n",
    "cols2=[\"09/10\", \"10/11\", \"11/12\", \"12/13\", \"14,15\", \"15/16\"]\n",
    "\n",
    "trendy_teams = {}\n",
    "for i in team_stats.index.get_level_values('team_api_id'):\n",
    "    trendy_teams[i] = [team_stats.loc[i, :].iloc[-1].values[0] - team_stats.loc[i, :].iloc[0].values[0]]\n",
    "    \n"
   ]
  },
  {
   "cell_type": "markdown",
   "metadata": {},
   "source": [
    "Converting the dictionary to a new dataframe"
   ]
  },
  {
   "cell_type": "code",
   "execution_count": 23,
   "metadata": {},
   "outputs": [],
   "source": [
    "trendy_teams = pd.DataFrame.from_dict(trendy_teams, orient='index')  # this option makes DataFrame created as rows"
   ]
  },
  {
   "cell_type": "markdown",
   "metadata": {},
   "source": [
    "#### Taking the first best progressed 5 teams according to a simple last_season_points - first_season_points\n",
    "\n",
    "Create a function to return team name from team_api_id\n"
   ]
  },
  {
   "cell_type": "code",
   "execution_count": 24,
   "metadata": {},
   "outputs": [
    {
     "data": {
      "text/html": [
       "<div>\n",
       "<style scoped>\n",
       "    .dataframe tbody tr th:only-of-type {\n",
       "        vertical-align: middle;\n",
       "    }\n",
       "\n",
       "    .dataframe tbody tr th {\n",
       "        vertical-align: top;\n",
       "    }\n",
       "\n",
       "    .dataframe thead th {\n",
       "        text-align: right;\n",
       "    }\n",
       "</style>\n",
       "<table border=\"1\" class=\"dataframe\">\n",
       "  <thead>\n",
       "    <tr style=\"text-align: right;\">\n",
       "      <th></th>\n",
       "      <th>0</th>\n",
       "    </tr>\n",
       "  </thead>\n",
       "  <tbody>\n",
       "    <tr>\n",
       "      <th>8197</th>\n",
       "      <td>40.0</td>\n",
       "    </tr>\n",
       "    <tr>\n",
       "      <th>9875</th>\n",
       "      <td>36.0</td>\n",
       "    </tr>\n",
       "    <tr>\n",
       "      <th>8573</th>\n",
       "      <td>35.0</td>\n",
       "    </tr>\n",
       "    <tr>\n",
       "      <th>9847</th>\n",
       "      <td>32.0</td>\n",
       "    </tr>\n",
       "    <tr>\n",
       "      <th>9772</th>\n",
       "      <td>29.0</td>\n",
       "    </tr>\n",
       "  </tbody>\n",
       "</table>\n",
       "</div>"
      ],
      "text/plain": [
       "         0\n",
       "8197  40.0\n",
       "9875  36.0\n",
       "8573  35.0\n",
       "9847  32.0\n",
       "9772  29.0"
      ]
     },
     "execution_count": 24,
     "metadata": {},
     "output_type": "execute_result"
    }
   ],
   "source": [
    "def team_name(team_id):\n",
    "    return dfs.Team[dfs.Team.team_api_id == team_id].team_long_name.iloc[0]\n",
    "best_progressed_teams = trendy_teams.sort_values(by=[0], ascending=False)[:5]\n",
    "best_progressed_teams"
   ]
  },
  {
   "cell_type": "markdown",
   "metadata": {},
   "source": [
    "Plotting the points received by the best pregressed team versus the seasons played"
   ]
  },
  {
   "cell_type": "code",
   "execution_count": 25,
   "metadata": {},
   "outputs": [
    {
     "data": {
      "image/png": "[encoded data removed]",
      "text/plain": [
       "<Figure size 432x288 with 1 Axes>"
      ]
     },
     "metadata": {
      "needs_background": "light"
     },
     "output_type": "display_data"
    }
   ],
   "source": [
    "\n",
    "plt.plot(team_stats.loc[ best_progressed_teams.index[0], :])\n",
    "plt.ylabel('Points'); plt.xlabel('Season');"
   ]
  },
  {
   "cell_type": "markdown",
   "metadata": {},
   "source": [
    "#### Observation: \n",
    "This team progressed the most swiftly while playing only the last two seasons which kind of exceptional thing in football world since a team usually builds a plan in order to progress incrementally throughout the consecutive seasons.\n",
    "Hence, in my opinion I shall not consider this observation to draw any conclusion since two season period can not be an indicative measure.\n",
    "\n",
    "#### Let's take a look on other teams"
   ]
  },
  {
   "cell_type": "code",
   "execution_count": 26,
   "metadata": {},
   "outputs": [
    {
     "data": {
      "image/png": "[encoded data removed]",
      "text/plain": [
       "<Figure size 1080x1080 with 4 Axes>"
      ]
     },
     "metadata": {
      "needs_background": "light"
     },
     "output_type": "display_data"
    }
   ],
   "source": [
    "## Create subplots\n",
    "fig, axs = plt.subplots(2,2)\n",
    "fig.set_figheight(15)\n",
    "fig.set_figwidth(15)\n",
    "for i, j in [(0,0), (0,1), (1,0), (1,1)]:\n",
    "    tmp_team_id = best_progressed_teams.index[i*2+j+1]\n",
    "    axs[i, j].plot(team_stats.loc[ tmp_team_id, :])\n",
    "    axs[i, j].set_title(team_name(tmp_team_id))\n",
    "    axs[i, j].set(ylabel='Points', xlabel='Season')"
   ]
  },
  {
   "cell_type": "markdown",
   "metadata": {},
   "source": [
    "#### Why these teams improved\n",
    "Let's find out in this section a correlation among number of points and other criteria\n",
    "\n",
    "remove '20' from season years so that i.e. `2008/2009` be `08/09` in Team_Attributes Table"
   ]
  },
  {
   "cell_type": "code",
   "execution_count": 27,
   "metadata": {},
   "outputs": [],
   "source": [
    "dfs.Team_Attributes.season = dfs.Team_Attributes.season.apply(lambda x: x[2:5]+x[7:])\n",
    "dfs.Team_Attributes = pd.merge(team_stats, dfs.Team_Attributes, how='inner',right_on=['team_api_id', 'season'],  left_on=['team_api_id', 'season']) "
   ]
  },
  {
   "cell_type": "code",
   "execution_count": 28,
   "metadata": {
    "scrolled": true
   },
   "outputs": [
    {
     "data": {
      "text/html": [
       "<div>\n",
       "<style scoped>\n",
       "    .dataframe tbody tr th:only-of-type {\n",
       "        vertical-align: middle;\n",
       "    }\n",
       "\n",
       "    .dataframe tbody tr th {\n",
       "        vertical-align: top;\n",
       "    }\n",
       "\n",
       "    .dataframe thead th {\n",
       "        text-align: right;\n",
       "    }\n",
       "</style>\n",
       "<table border=\"1\" class=\"dataframe\">\n",
       "  <thead>\n",
       "    <tr style=\"text-align: right;\">\n",
       "      <th></th>\n",
       "      <th>team_api_id</th>\n",
       "      <th>points</th>\n",
       "      <th>id</th>\n",
       "      <th>team_fifa_api_id</th>\n",
       "      <th>buildUpPlaySpeed</th>\n",
       "      <th>buildUpPlayDribbling</th>\n",
       "      <th>buildUpPlayPassing</th>\n",
       "      <th>chanceCreationPassing</th>\n",
       "      <th>chanceCreationCrossing</th>\n",
       "      <th>chanceCreationShooting</th>\n",
       "      <th>defencePressure</th>\n",
       "      <th>defenceAggression</th>\n",
       "      <th>defenceTeamWidth</th>\n",
       "      <th>Year</th>\n",
       "    </tr>\n",
       "  </thead>\n",
       "  <tbody>\n",
       "    <tr>\n",
       "      <th>team_api_id</th>\n",
       "      <td>1.000000</td>\n",
       "      <td>-0.042410</td>\n",
       "      <td>-0.057503</td>\n",
       "      <td>0.128096</td>\n",
       "      <td>0.063970</td>\n",
       "      <td>0.062813</td>\n",
       "      <td>0.021022</td>\n",
       "      <td>0.010016</td>\n",
       "      <td>-0.020305</td>\n",
       "      <td>-0.057024</td>\n",
       "      <td>-0.077350</td>\n",
       "      <td>-0.029627</td>\n",
       "      <td>-0.087115</td>\n",
       "      <td>0.072771</td>\n",
       "    </tr>\n",
       "    <tr>\n",
       "      <th>points</th>\n",
       "      <td>-0.042410</td>\n",
       "      <td>1.000000</td>\n",
       "      <td>-0.116368</td>\n",
       "      <td>-0.235318</td>\n",
       "      <td>0.023081</td>\n",
       "      <td>0.039811</td>\n",
       "      <td>-0.154277</td>\n",
       "      <td>0.073101</td>\n",
       "      <td>0.111639</td>\n",
       "      <td>0.105834</td>\n",
       "      <td>0.190514</td>\n",
       "      <td>0.090814</td>\n",
       "      <td>0.088395</td>\n",
       "      <td>0.038005</td>\n",
       "    </tr>\n",
       "    <tr>\n",
       "      <th>id</th>\n",
       "      <td>-0.057503</td>\n",
       "      <td>-0.116368</td>\n",
       "      <td>1.000000</td>\n",
       "      <td>0.021490</td>\n",
       "      <td>-0.036153</td>\n",
       "      <td>0.052961</td>\n",
       "      <td>-0.018622</td>\n",
       "      <td>0.022925</td>\n",
       "      <td>-0.000661</td>\n",
       "      <td>-0.008535</td>\n",
       "      <td>-0.049309</td>\n",
       "      <td>-0.063056</td>\n",
       "      <td>-0.058431</td>\n",
       "      <td>-0.004879</td>\n",
       "    </tr>\n",
       "    <tr>\n",
       "      <th>team_fifa_api_id</th>\n",
       "      <td>0.128096</td>\n",
       "      <td>-0.235318</td>\n",
       "      <td>0.021490</td>\n",
       "      <td>1.000000</td>\n",
       "      <td>-0.013564</td>\n",
       "      <td>0.079822</td>\n",
       "      <td>0.038553</td>\n",
       "      <td>-0.023069</td>\n",
       "      <td>-0.121589</td>\n",
       "      <td>0.011487</td>\n",
       "      <td>-0.062049</td>\n",
       "      <td>0.012370</td>\n",
       "      <td>-0.079582</td>\n",
       "      <td>0.012989</td>\n",
       "    </tr>\n",
       "    <tr>\n",
       "      <th>buildUpPlaySpeed</th>\n",
       "      <td>0.063970</td>\n",
       "      <td>0.023081</td>\n",
       "      <td>-0.036153</td>\n",
       "      <td>-0.013564</td>\n",
       "      <td>1.000000</td>\n",
       "      <td>0.078500</td>\n",
       "      <td>0.414675</td>\n",
       "      <td>0.320864</td>\n",
       "      <td>0.194856</td>\n",
       "      <td>0.072082</td>\n",
       "      <td>0.026009</td>\n",
       "      <td>0.139566</td>\n",
       "      <td>0.069595</td>\n",
       "      <td>0.108809</td>\n",
       "    </tr>\n",
       "    <tr>\n",
       "      <th>buildUpPlayDribbling</th>\n",
       "      <td>0.062813</td>\n",
       "      <td>0.039811</td>\n",
       "      <td>0.052961</td>\n",
       "      <td>0.079822</td>\n",
       "      <td>0.078500</td>\n",
       "      <td>1.000000</td>\n",
       "      <td>-0.018964</td>\n",
       "      <td>0.148506</td>\n",
       "      <td>0.085396</td>\n",
       "      <td>0.165397</td>\n",
       "      <td>-0.018312</td>\n",
       "      <td>-0.087459</td>\n",
       "      <td>0.096769</td>\n",
       "      <td>-0.086362</td>\n",
       "    </tr>\n",
       "    <tr>\n",
       "      <th>buildUpPlayPassing</th>\n",
       "      <td>0.021022</td>\n",
       "      <td>-0.154277</td>\n",
       "      <td>-0.018622</td>\n",
       "      <td>0.038553</td>\n",
       "      <td>0.414675</td>\n",
       "      <td>-0.018964</td>\n",
       "      <td>1.000000</td>\n",
       "      <td>0.191673</td>\n",
       "      <td>0.226002</td>\n",
       "      <td>-0.080401</td>\n",
       "      <td>-0.086218</td>\n",
       "      <td>0.115808</td>\n",
       "      <td>0.036853</td>\n",
       "      <td>0.049520</td>\n",
       "    </tr>\n",
       "    <tr>\n",
       "      <th>chanceCreationPassing</th>\n",
       "      <td>0.010016</td>\n",
       "      <td>0.073101</td>\n",
       "      <td>0.022925</td>\n",
       "      <td>-0.023069</td>\n",
       "      <td>0.320864</td>\n",
       "      <td>0.148506</td>\n",
       "      <td>0.191673</td>\n",
       "      <td>1.000000</td>\n",
       "      <td>0.232422</td>\n",
       "      <td>0.155291</td>\n",
       "      <td>0.166795</td>\n",
       "      <td>0.133860</td>\n",
       "      <td>0.117509</td>\n",
       "      <td>0.016662</td>\n",
       "    </tr>\n",
       "    <tr>\n",
       "      <th>chanceCreationCrossing</th>\n",
       "      <td>-0.020305</td>\n",
       "      <td>0.111639</td>\n",
       "      <td>-0.000661</td>\n",
       "      <td>-0.121589</td>\n",
       "      <td>0.194856</td>\n",
       "      <td>0.085396</td>\n",
       "      <td>0.226002</td>\n",
       "      <td>0.232422</td>\n",
       "      <td>1.000000</td>\n",
       "      <td>-0.007175</td>\n",
       "      <td>0.026117</td>\n",
       "      <td>0.061450</td>\n",
       "      <td>0.090864</td>\n",
       "      <td>-0.010135</td>\n",
       "    </tr>\n",
       "    <tr>\n",
       "      <th>chanceCreationShooting</th>\n",
       "      <td>-0.057024</td>\n",
       "      <td>0.105834</td>\n",
       "      <td>-0.008535</td>\n",
       "      <td>0.011487</td>\n",
       "      <td>0.072082</td>\n",
       "      <td>0.165397</td>\n",
       "      <td>-0.080401</td>\n",
       "      <td>0.155291</td>\n",
       "      <td>-0.007175</td>\n",
       "      <td>1.000000</td>\n",
       "      <td>0.209289</td>\n",
       "      <td>0.119945</td>\n",
       "      <td>0.139513</td>\n",
       "      <td>-0.317567</td>\n",
       "    </tr>\n",
       "    <tr>\n",
       "      <th>defencePressure</th>\n",
       "      <td>-0.077350</td>\n",
       "      <td>0.190514</td>\n",
       "      <td>-0.049309</td>\n",
       "      <td>-0.062049</td>\n",
       "      <td>0.026009</td>\n",
       "      <td>-0.018312</td>\n",
       "      <td>-0.086218</td>\n",
       "      <td>0.166795</td>\n",
       "      <td>0.026117</td>\n",
       "      <td>0.209289</td>\n",
       "      <td>1.000000</td>\n",
       "      <td>0.434776</td>\n",
       "      <td>0.517004</td>\n",
       "      <td>-0.112216</td>\n",
       "    </tr>\n",
       "    <tr>\n",
       "      <th>defenceAggression</th>\n",
       "      <td>-0.029627</td>\n",
       "      <td>0.090814</td>\n",
       "      <td>-0.063056</td>\n",
       "      <td>0.012370</td>\n",
       "      <td>0.139566</td>\n",
       "      <td>-0.087459</td>\n",
       "      <td>0.115808</td>\n",
       "      <td>0.133860</td>\n",
       "      <td>0.061450</td>\n",
       "      <td>0.119945</td>\n",
       "      <td>0.434776</td>\n",
       "      <td>1.000000</td>\n",
       "      <td>0.243392</td>\n",
       "      <td>-0.102102</td>\n",
       "    </tr>\n",
       "    <tr>\n",
       "      <th>defenceTeamWidth</th>\n",
       "      <td>-0.087115</td>\n",
       "      <td>0.088395</td>\n",
       "      <td>-0.058431</td>\n",
       "      <td>-0.079582</td>\n",
       "      <td>0.069595</td>\n",
       "      <td>0.096769</td>\n",
       "      <td>0.036853</td>\n",
       "      <td>0.117509</td>\n",
       "      <td>0.090864</td>\n",
       "      <td>0.139513</td>\n",
       "      <td>0.517004</td>\n",
       "      <td>0.243392</td>\n",
       "      <td>1.000000</td>\n",
       "      <td>-0.044334</td>\n",
       "    </tr>\n",
       "    <tr>\n",
       "      <th>Year</th>\n",
       "      <td>0.072771</td>\n",
       "      <td>0.038005</td>\n",
       "      <td>-0.004879</td>\n",
       "      <td>0.012989</td>\n",
       "      <td>0.108809</td>\n",
       "      <td>-0.086362</td>\n",
       "      <td>0.049520</td>\n",
       "      <td>0.016662</td>\n",
       "      <td>-0.010135</td>\n",
       "      <td>-0.317567</td>\n",
       "      <td>-0.112216</td>\n",
       "      <td>-0.102102</td>\n",
       "      <td>-0.044334</td>\n",
       "      <td>1.000000</td>\n",
       "    </tr>\n",
       "  </tbody>\n",
       "</table>\n",
       "</div>"
      ],
      "text/plain": [
       "                        team_api_id    points        id  team_fifa_api_id  \\\n",
       "team_api_id                1.000000 -0.042410 -0.057503          0.128096   \n",
       "points                    -0.042410  1.000000 -0.116368         -0.235318   \n",
       "id                        -0.057503 -0.116368  1.000000          0.021490   \n",
       "team_fifa_api_id           0.128096 -0.235318  0.021490          1.000000   \n",
       "buildUpPlaySpeed           0.063970  0.023081 -0.036153         -0.013564   \n",
       "buildUpPlayDribbling       0.062813  0.039811  0.052961          0.079822   \n",
       "buildUpPlayPassing         0.021022 -0.154277 -0.018622          0.038553   \n",
       "chanceCreationPassing      0.010016  0.073101  0.022925         -0.023069   \n",
       "chanceCreationCrossing    -0.020305  0.111639 -0.000661         -0.121589   \n",
       "chanceCreationShooting    -0.057024  0.105834 -0.008535          0.011487   \n",
       "defencePressure           -0.077350  0.190514 -0.049309         -0.062049   \n",
       "defenceAggression         -0.029627  0.090814 -0.063056          0.012370   \n",
       "defenceTeamWidth          -0.087115  0.088395 -0.058431         -0.079582   \n",
       "Year                       0.072771  0.038005 -0.004879          0.012989   \n",
       "\n",
       "                        buildUpPlaySpeed  buildUpPlayDribbling  \\\n",
       "team_api_id                     0.063970              0.062813   \n",
       "points                          0.023081              0.039811   \n",
       "id                             -0.036153              0.052961   \n",
       "team_fifa_api_id               -0.013564              0.079822   \n",
       "buildUpPlaySpeed                1.000000              0.078500   \n",
       "buildUpPlayDribbling            0.078500              1.000000   \n",
       "buildUpPlayPassing              0.414675             -0.018964   \n",
       "chanceCreationPassing           0.320864              0.148506   \n",
       "chanceCreationCrossing          0.194856              0.085396   \n",
       "chanceCreationShooting          0.072082              0.165397   \n",
       "defencePressure                 0.026009             -0.018312   \n",
       "defenceAggression               0.139566             -0.087459   \n",
       "defenceTeamWidth                0.069595              0.096769   \n",
       "Year                            0.108809             -0.086362   \n",
       "\n",
       "                        buildUpPlayPassing  chanceCreationPassing  \\\n",
       "team_api_id                       0.021022               0.010016   \n",
       "points                           -0.154277               0.073101   \n",
       "id                               -0.018622               0.022925   \n",
       "team_fifa_api_id                  0.038553              -0.023069   \n",
       "buildUpPlaySpeed                  0.414675               0.320864   \n",
       "buildUpPlayDribbling             -0.018964               0.148506   \n",
       "buildUpPlayPassing                1.000000               0.191673   \n",
       "chanceCreationPassing             0.191673               1.000000   \n",
       "chanceCreationCrossing            0.226002               0.232422   \n",
       "chanceCreationShooting           -0.080401               0.155291   \n",
       "defencePressure                  -0.086218               0.166795   \n",
       "defenceAggression                 0.115808               0.133860   \n",
       "defenceTeamWidth                  0.036853               0.117509   \n",
       "Year                              0.049520               0.016662   \n",
       "\n",
       "                        chanceCreationCrossing  chanceCreationShooting  \\\n",
       "team_api_id                          -0.020305               -0.057024   \n",
       "points                                0.111639                0.105834   \n",
       "id                                   -0.000661               -0.008535   \n",
       "team_fifa_api_id                     -0.121589                0.011487   \n",
       "buildUpPlaySpeed                      0.194856                0.072082   \n",
       "buildUpPlayDribbling                  0.085396                0.165397   \n",
       "buildUpPlayPassing                    0.226002               -0.080401   \n",
       "chanceCreationPassing                 0.232422                0.155291   \n",
       "chanceCreationCrossing                1.000000               -0.007175   \n",
       "chanceCreationShooting               -0.007175                1.000000   \n",
       "defencePressure                       0.026117                0.209289   \n",
       "defenceAggression                     0.061450                0.119945   \n",
       "defenceTeamWidth                      0.090864                0.139513   \n",
       "Year                                 -0.010135               -0.317567   \n",
       "\n",
       "                        defencePressure  defenceAggression  defenceTeamWidth  \\\n",
       "team_api_id                   -0.077350          -0.029627         -0.087115   \n",
       "points                         0.190514           0.090814          0.088395   \n",
       "id                            -0.049309          -0.063056         -0.058431   \n",
       "team_fifa_api_id              -0.062049           0.012370         -0.079582   \n",
       "buildUpPlaySpeed               0.026009           0.139566          0.069595   \n",
       "buildUpPlayDribbling          -0.018312          -0.087459          0.096769   \n",
       "buildUpPlayPassing            -0.086218           0.115808          0.036853   \n",
       "chanceCreationPassing          0.166795           0.133860          0.117509   \n",
       "chanceCreationCrossing         0.026117           0.061450          0.090864   \n",
       "chanceCreationShooting         0.209289           0.119945          0.139513   \n",
       "defencePressure                1.000000           0.434776          0.517004   \n",
       "defenceAggression              0.434776           1.000000          0.243392   \n",
       "defenceTeamWidth               0.517004           0.243392          1.000000   \n",
       "Year                          -0.112216          -0.102102         -0.044334   \n",
       "\n",
       "                            Year  \n",
       "team_api_id             0.072771  \n",
       "points                  0.038005  \n",
       "id                     -0.004879  \n",
       "team_fifa_api_id        0.012989  \n",
       "buildUpPlaySpeed        0.108809  \n",
       "buildUpPlayDribbling   -0.086362  \n",
       "buildUpPlayPassing      0.049520  \n",
       "chanceCreationPassing   0.016662  \n",
       "chanceCreationCrossing -0.010135  \n",
       "chanceCreationShooting -0.317567  \n",
       "defencePressure        -0.112216  \n",
       "defenceAggression      -0.102102  \n",
       "defenceTeamWidth       -0.044334  \n",
       "Year                    1.000000  "
      ]
     },
     "execution_count": 28,
     "metadata": {},
     "output_type": "execute_result"
    }
   ],
   "source": [
    "dfs.Team_Attributes.corr()"
   ]
  },
  {
   "cell_type": "markdown",
   "metadata": {},
   "source": [
    "Let's look at Napoli attribute `buildUpPlayPassing` with `points`"
   ]
  },
  {
   "cell_type": "code",
   "execution_count": 29,
   "metadata": {},
   "outputs": [
    {
     "data": {
      "text/plain": [
       "<matplotlib.axes._subplots.AxesSubplot at 0x1e2403e4358>"
      ]
     },
     "execution_count": 29,
     "metadata": {},
     "output_type": "execute_result"
    },
    {
     "data": {
      "image/png": "[encoded data removed]",
      "text/plain": [
       "<Figure size 432x288 with 1 Axes>"
      ]
     },
     "metadata": {
      "needs_background": "light"
     },
     "output_type": "display_data"
    },
    {
     "data": {
      "image/png": "[encoded data removed]",
      "text/plain": [
       "<Figure size 432x288 with 1 Axes>"
      ]
     },
     "metadata": {
      "needs_background": "light"
     },
     "output_type": "display_data"
    }
   ],
   "source": [
    "example_napoli = dfs.Team_Attributes.loc[dfs.Team_Attributes.team_api_id == 9847]\n",
    "example_napoli.loc[:, ['season', 'buildUpPlayPassing']].plot()\n",
    "example_napoli.loc[:, ['season', 'points']].plot()"
   ]
  },
  {
   "cell_type": "markdown",
   "metadata": {},
   "source": [
    "As shown by `corr()` there is a relatively not inconsiderable value for inverse correlation between `points` and `buildupPlayByPassing`. I took Napoli as an example, we findout they have decided at the beginning in the first chart to ditch `buildupPlayByPassing` strategy. Since then the team has shown a rise in number of points throughout the seasons. Presumable this was decided by their new coach then \"Sarri\" who started a new age with this team bringing up new methods of play."
   ]
  },
  {
   "cell_type": "markdown",
   "metadata": {},
   "source": [
    "**Personal Insight** The Maximum value of correlation between one `criteria` and `points` is about `0.19` which is definitely not enough to rely on in making decisions. \n",
    "But we can see other criteria influencing a teams performance, it is also seen some correlations among the criteria themselves. This kind of problems requires machine learning in order to mix several criteria together from which we can even predict somehow the number of points that a team might end up having given those criteria."
   ]
  },
  {
   "cell_type": "markdown",
   "metadata": {},
   "source": [
    "### Research Question 2  (Players had most number of penalties!)"
   ]
  },
  {
   "cell_type": "markdown",
   "metadata": {},
   "source": [
    "#### Dataset Issue\n",
    "There is an issue here of multiple rows referring to the same player. The attribute `player_fifa_api_id` is unique for each player and we can find it repeated accross here.\n",
    "Hence we use the `groupby` on the `player_fifa_api_id` and aggregate penalties by `max`."
   ]
  },
  {
   "cell_type": "markdown",
   "metadata": {},
   "source": [
    "Here shown the issue of repeated players accross rows"
   ]
  },
  {
   "cell_type": "code",
   "execution_count": 30,
   "metadata": {},
   "outputs": [
    {
     "data": {
      "text/html": [
       "<div>\n",
       "<style scoped>\n",
       "    .dataframe tbody tr th:only-of-type {\n",
       "        vertical-align: middle;\n",
       "    }\n",
       "\n",
       "    .dataframe tbody tr th {\n",
       "        vertical-align: top;\n",
       "    }\n",
       "\n",
       "    .dataframe thead th {\n",
       "        text-align: right;\n",
       "    }\n",
       "</style>\n",
       "<table border=\"1\" class=\"dataframe\">\n",
       "  <thead>\n",
       "    <tr style=\"text-align: right;\">\n",
       "      <th></th>\n",
       "      <th>id</th>\n",
       "      <th>player_fifa_api_id</th>\n",
       "      <th>player_api_id</th>\n",
       "      <th>date</th>\n",
       "      <th>overall_rating</th>\n",
       "      <th>potential</th>\n",
       "      <th>preferred_foot</th>\n",
       "      <th>attacking_work_rate</th>\n",
       "      <th>defensive_work_rate</th>\n",
       "      <th>crossing</th>\n",
       "      <th>...</th>\n",
       "      <th>vision</th>\n",
       "      <th>penalties</th>\n",
       "      <th>marking</th>\n",
       "      <th>standing_tackle</th>\n",
       "      <th>sliding_tackle</th>\n",
       "      <th>gk_diving</th>\n",
       "      <th>gk_handling</th>\n",
       "      <th>gk_kicking</th>\n",
       "      <th>gk_positioning</th>\n",
       "      <th>gk_reflexes</th>\n",
       "    </tr>\n",
       "  </thead>\n",
       "  <tbody>\n",
       "    <tr>\n",
       "      <th>149594</th>\n",
       "      <td>149595</td>\n",
       "      <td>13879</td>\n",
       "      <td>39225</td>\n",
       "      <td>2015-09-21 00:00:00</td>\n",
       "      <td>75.0</td>\n",
       "      <td>75.0</td>\n",
       "      <td>right</td>\n",
       "      <td>high</td>\n",
       "      <td>medium</td>\n",
       "      <td>67.0</td>\n",
       "      <td>...</td>\n",
       "      <td>77.0</td>\n",
       "      <td>96.0</td>\n",
       "      <td>30.0</td>\n",
       "      <td>26.0</td>\n",
       "      <td>19.0</td>\n",
       "      <td>13.0</td>\n",
       "      <td>15.0</td>\n",
       "      <td>7.0</td>\n",
       "      <td>16.0</td>\n",
       "      <td>11.0</td>\n",
       "    </tr>\n",
       "    <tr>\n",
       "      <th>149593</th>\n",
       "      <td>149594</td>\n",
       "      <td>13879</td>\n",
       "      <td>39225</td>\n",
       "      <td>2015-10-23 00:00:00</td>\n",
       "      <td>75.0</td>\n",
       "      <td>75.0</td>\n",
       "      <td>right</td>\n",
       "      <td>high</td>\n",
       "      <td>medium</td>\n",
       "      <td>67.0</td>\n",
       "      <td>...</td>\n",
       "      <td>77.0</td>\n",
       "      <td>96.0</td>\n",
       "      <td>30.0</td>\n",
       "      <td>26.0</td>\n",
       "      <td>19.0</td>\n",
       "      <td>13.0</td>\n",
       "      <td>15.0</td>\n",
       "      <td>7.0</td>\n",
       "      <td>16.0</td>\n",
       "      <td>11.0</td>\n",
       "    </tr>\n",
       "    <tr>\n",
       "      <th>149592</th>\n",
       "      <td>149593</td>\n",
       "      <td>13879</td>\n",
       "      <td>39225</td>\n",
       "      <td>2015-12-24 00:00:00</td>\n",
       "      <td>75.0</td>\n",
       "      <td>75.0</td>\n",
       "      <td>right</td>\n",
       "      <td>high</td>\n",
       "      <td>medium</td>\n",
       "      <td>67.0</td>\n",
       "      <td>...</td>\n",
       "      <td>77.0</td>\n",
       "      <td>96.0</td>\n",
       "      <td>30.0</td>\n",
       "      <td>26.0</td>\n",
       "      <td>19.0</td>\n",
       "      <td>13.0</td>\n",
       "      <td>15.0</td>\n",
       "      <td>7.0</td>\n",
       "      <td>16.0</td>\n",
       "      <td>11.0</td>\n",
       "    </tr>\n",
       "    <tr>\n",
       "      <th>149591</th>\n",
       "      <td>149592</td>\n",
       "      <td>13879</td>\n",
       "      <td>39225</td>\n",
       "      <td>2016-03-10 00:00:00</td>\n",
       "      <td>75.0</td>\n",
       "      <td>75.0</td>\n",
       "      <td>right</td>\n",
       "      <td>high</td>\n",
       "      <td>medium</td>\n",
       "      <td>67.0</td>\n",
       "      <td>...</td>\n",
       "      <td>77.0</td>\n",
       "      <td>96.0</td>\n",
       "      <td>30.0</td>\n",
       "      <td>26.0</td>\n",
       "      <td>19.0</td>\n",
       "      <td>13.0</td>\n",
       "      <td>15.0</td>\n",
       "      <td>7.0</td>\n",
       "      <td>16.0</td>\n",
       "      <td>11.0</td>\n",
       "    </tr>\n",
       "  </tbody>\n",
       "</table>\n",
       "<p>4 rows × 42 columns</p>\n",
       "</div>"
      ],
      "text/plain": [
       "            id  player_fifa_api_id  player_api_id                 date  \\\n",
       "149594  149595               13879          39225  2015-09-21 00:00:00   \n",
       "149593  149594               13879          39225  2015-10-23 00:00:00   \n",
       "149592  149593               13879          39225  2015-12-24 00:00:00   \n",
       "149591  149592               13879          39225  2016-03-10 00:00:00   \n",
       "\n",
       "        overall_rating  potential preferred_foot attacking_work_rate  \\\n",
       "149594            75.0       75.0          right                high   \n",
       "149593            75.0       75.0          right                high   \n",
       "149592            75.0       75.0          right                high   \n",
       "149591            75.0       75.0          right                high   \n",
       "\n",
       "       defensive_work_rate  crossing  ...  vision  penalties  marking  \\\n",
       "149594              medium      67.0  ...    77.0       96.0     30.0   \n",
       "149593              medium      67.0  ...    77.0       96.0     30.0   \n",
       "149592              medium      67.0  ...    77.0       96.0     30.0   \n",
       "149591              medium      67.0  ...    77.0       96.0     30.0   \n",
       "\n",
       "        standing_tackle  sliding_tackle  gk_diving  gk_handling  gk_kicking  \\\n",
       "149594             26.0            19.0       13.0         15.0         7.0   \n",
       "149593             26.0            19.0       13.0         15.0         7.0   \n",
       "149592             26.0            19.0       13.0         15.0         7.0   \n",
       "149591             26.0            19.0       13.0         15.0         7.0   \n",
       "\n",
       "        gk_positioning  gk_reflexes  \n",
       "149594            16.0         11.0  \n",
       "149593            16.0         11.0  \n",
       "149592            16.0         11.0  \n",
       "149591            16.0         11.0  \n",
       "\n",
       "[4 rows x 42 columns]"
      ]
     },
     "execution_count": 30,
     "metadata": {},
     "output_type": "execute_result"
    }
   ],
   "source": [
    "dfs.Player_Attributes.sort_values(by=['penalties'], ascending=False)[:4]"
   ]
  },
  {
   "cell_type": "markdown",
   "metadata": {},
   "source": [
    "Now use `groupby`"
   ]
  },
  {
   "cell_type": "code",
   "execution_count": 31,
   "metadata": {},
   "outputs": [],
   "source": [
    "df_penalties = dfs.Player_Attributes.dropna().loc[:, ['player_fifa_api_id', 'penalties']]\n",
    "df_penalties = df_penalties.groupby('player_fifa_api_id').max()"
   ]
  },
  {
   "cell_type": "markdown",
   "metadata": {},
   "source": [
    "Time to sort the dataframe according to the number of penalties taken by player"
   ]
  },
  {
   "cell_type": "code",
   "execution_count": 32,
   "metadata": {},
   "outputs": [],
   "source": [
    "df_penalties = df_penalties.sort_values(by=['penalties'], ascending=False)[:10]"
   ]
  },
  {
   "cell_type": "markdown",
   "metadata": {},
   "source": [
    "Now we can list the players names according to most penalties taken"
   ]
  },
  {
   "cell_type": "code",
   "execution_count": 33,
   "metadata": {},
   "outputs": [
    {
     "data": {
      "text/plain": [
       "Index(['Rickie Lambert', 'Mario Balotelli', 'Paul Scholes', 'Xavi Hernandez',\n",
       "       'Andrea Pirlo', 'Cesc Fabregas', 'Adrian Mutu', 'Iker Casillas',\n",
       "       'David Trezeguet', 'Alexander Frei'],\n",
       "      dtype='object', name='player_fifa_api_id')"
      ]
     },
     "execution_count": 33,
     "metadata": {},
     "output_type": "execute_result"
    }
   ],
   "source": [
    "def player_name(id):\n",
    "    return dfs.Player[dfs.Player.player_fifa_api_id == id].player_name.values[0]\n",
    "df_penalties.index.map( player_name)"
   ]
  },
  {
   "cell_type": "markdown",
   "metadata": {},
   "source": [
    "<a id='conclusions'></a>\n",
    "## Conclusions\n",
    "\n"
   ]
  },
  {
   "cell_type": "markdown",
   "metadata": {
    "collapsed": true
   },
   "source": [
    "**1.** Based on the personal insight in the last cell beneath **Research Question 1**, applying a machine learning algorithm (i.e. Random Forest, Multi-layer Perceptron, ...etc) might give us a good model to help teams tune their attributes well enough to end up with the maximum number of points in the season. That is since one attribute in this dataset is not enough to  boost end results."
   ]
  },
  {
   "cell_type": "markdown",
   "metadata": {},
   "source": [
    "**2.** Despite the presumable inverse correlation in the Napoli example, it does not have to be the cause of improvement since a counter argument needs to be developed studying other not as successful teams. As known that correlation does not imply causation, we need to see coaches of other teams who might have tried in their teams to ditch the `buildupPlayByPassing` and still ended up unsuccessful, unlike Napoli."
   ]
  },
  {
   "cell_type": "code",
   "execution_count": null,
   "metadata": {},
   "outputs": [],
   "source": []
  }
 ],
 "metadata": {
  "kernelspec": {
   "display_name": "Python 3",
   "language": "python",
   "name": "python3"
  },
  "language_info": {
   "codemirror_mode": {
    "name": "ipython",
    "version": 3
   },
   "file_extension": ".py",
   "mimetype": "text/x-python",
   "name": "python",
   "nbconvert_exporter": "python",
   "pygments_lexer": "ipython3",
   "version": "3.6.10"
  }
 },
 "nbformat": 4,
 "nbformat_minor": 2
}
